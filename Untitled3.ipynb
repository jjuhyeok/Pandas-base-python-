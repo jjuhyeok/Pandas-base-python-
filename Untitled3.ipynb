{
  "nbformat": 4,
  "nbformat_minor": 0,
  "metadata": {
    "colab": {
      "name": "Untitled3.ipynb",
      "provenance": [],
      "collapsed_sections": [],
      "toc_visible": true,
      "authorship_tag": "ABX9TyNNhLI93rx0bL5xWX/lmqk2",
      "include_colab_link": true
    },
    "kernelspec": {
      "name": "python3",
      "display_name": "Python 3"
    },
    "language_info": {
      "name": "python"
    }
  },
  "cells": [
    {
      "cell_type": "markdown",
      "metadata": {
        "id": "view-in-github",
        "colab_type": "text"
      },
      "source": [
        "<a href=\"https://colab.research.google.com/github/jjuhyeok/Pandas-base-python-/blob/master/Untitled3.ipynb\" target=\"_parent\"><img src=\"https://colab.research.google.com/assets/colab-badge.svg\" alt=\"Open In Colab\"/></a>"
      ]
    },
    {
      "cell_type": "code",
      "execution_count": 1,
      "metadata": {
        "id": "POnmIkIWwYOf"
      },
      "outputs": [],
      "source": [
        "import pandas as pd #숫자에 관한 라이브러리인 판다스를 임포트 하고 pd로 불러오는 코드\n",
        "import numpy as np #데이터 처리에 관한 라이브러리인 넘파이를 임포트 하고 np로 불러오는 코드"
      ]
    },
    {
      "cell_type": "code",
      "source": [
        "from sklearn.datasets import load_iris #사이킷런에 내장된 데이터셋중 iris 데이터를 불러오는 코드"
      ],
      "metadata": {
        "id": "z3MFTIibxqvH"
      },
      "execution_count": 4,
      "outputs": []
    },
    {
      "cell_type": "code",
      "source": [
        "from sklearn.model_selection import train_test_split #\n",
        "from sklearn.neighbors import KNeighborsClassifier #"
      ],
      "metadata": {
        "id": "F1J2wlGbx86x"
      },
      "execution_count": 26,
      "outputs": []
    },
    {
      "cell_type": "code",
      "source": [
        "iris = load_iris() #iris 데이터를 iris인 변수를 선언해서 대입\n",
        "print(iris.target_names) #iris의 레이블 이름을 프린트"
      ],
      "metadata": {
        "colab": {
          "base_uri": "https://localhost:8080/"
        },
        "id": "jDOWPK7ZyA_P",
        "outputId": "1afb5a98-bc5b-4d78-8cd7-8c5ab037166f"
      },
      "execution_count": 21,
      "outputs": [
        {
          "output_type": "stream",
          "name": "stdout",
          "text": [
            "['setosa' 'versicolor' 'virginica']\n"
          ]
        }
      ]
    },
    {
      "cell_type": "markdown",
      "source": [
        ""
      ],
      "metadata": {
        "id": "f-xV5LBL2zz_"
      }
    },
    {
      "cell_type": "code",
      "source": [
        "print(iris.data.shape) #iris 데이터의 행과 열의 크기를 보기"
      ],
      "metadata": {
        "colab": {
          "base_uri": "https://localhost:8080/"
        },
        "id": "wXIW1wCL1-bX",
        "outputId": "b528f138-4baa-46f0-d981-662ea7f6fd13"
      },
      "execution_count": 27,
      "outputs": [
        {
          "output_type": "stream",
          "name": "stdout",
          "text": [
            "(150, 4)\n"
          ]
        }
      ]
    },
    {
      "cell_type": "markdown",
      "source": [
        ""
      ],
      "metadata": {
        "id": "E6eEprsv214w"
      }
    },
    {
      "cell_type": "code",
      "source": [
        "print(iris.DESCR) #아이리스 데이터의 설명을 보기"
      ],
      "metadata": {
        "colab": {
          "base_uri": "https://localhost:8080/"
        },
        "id": "iOVi1yyF22Fe",
        "outputId": "dd9b5da4-90e6-43f2-8146-ced5095444bb"
      },
      "execution_count": 28,
      "outputs": [
        {
          "output_type": "stream",
          "name": "stdout",
          "text": [
            ".. _iris_dataset:\n",
            "\n",
            "Iris plants dataset\n",
            "--------------------\n",
            "\n",
            "**Data Set Characteristics:**\n",
            "\n",
            "    :Number of Instances: 150 (50 in each of three classes)\n",
            "    :Number of Attributes: 4 numeric, predictive attributes and the class\n",
            "    :Attribute Information:\n",
            "        - sepal length in cm\n",
            "        - sepal width in cm\n",
            "        - petal length in cm\n",
            "        - petal width in cm\n",
            "        - class:\n",
            "                - Iris-Setosa\n",
            "                - Iris-Versicolour\n",
            "                - Iris-Virginica\n",
            "                \n",
            "    :Summary Statistics:\n",
            "\n",
            "    ============== ==== ==== ======= ===== ====================\n",
            "                    Min  Max   Mean    SD   Class Correlation\n",
            "    ============== ==== ==== ======= ===== ====================\n",
            "    sepal length:   4.3  7.9   5.84   0.83    0.7826\n",
            "    sepal width:    2.0  4.4   3.05   0.43   -0.4194\n",
            "    petal length:   1.0  6.9   3.76   1.76    0.9490  (high!)\n",
            "    petal width:    0.1  2.5   1.20   0.76    0.9565  (high!)\n",
            "    ============== ==== ==== ======= ===== ====================\n",
            "\n",
            "    :Missing Attribute Values: None\n",
            "    :Class Distribution: 33.3% for each of 3 classes.\n",
            "    :Creator: R.A. Fisher\n",
            "    :Donor: Michael Marshall (MARSHALL%PLU@io.arc.nasa.gov)\n",
            "    :Date: July, 1988\n",
            "\n",
            "The famous Iris database, first used by Sir R.A. Fisher. The dataset is taken\n",
            "from Fisher's paper. Note that it's the same as in R, but not as in the UCI\n",
            "Machine Learning Repository, which has two wrong data points.\n",
            "\n",
            "This is perhaps the best known database to be found in the\n",
            "pattern recognition literature.  Fisher's paper is a classic in the field and\n",
            "is referenced frequently to this day.  (See Duda & Hart, for example.)  The\n",
            "data set contains 3 classes of 50 instances each, where each class refers to a\n",
            "type of iris plant.  One class is linearly separable from the other 2; the\n",
            "latter are NOT linearly separable from each other.\n",
            "\n",
            ".. topic:: References\n",
            "\n",
            "   - Fisher, R.A. \"The use of multiple measurements in taxonomic problems\"\n",
            "     Annual Eugenics, 7, Part II, 179-188 (1936); also in \"Contributions to\n",
            "     Mathematical Statistics\" (John Wiley, NY, 1950).\n",
            "   - Duda, R.O., & Hart, P.E. (1973) Pattern Classification and Scene Analysis.\n",
            "     (Q327.D83) John Wiley & Sons.  ISBN 0-471-22361-1.  See page 218.\n",
            "   - Dasarathy, B.V. (1980) \"Nosing Around the Neighborhood: A New System\n",
            "     Structure and Classification Rule for Recognition in Partially Exposed\n",
            "     Environments\".  IEEE Transactions on Pattern Analysis and Machine\n",
            "     Intelligence, Vol. PAMI-2, No. 1, 67-71.\n",
            "   - Gates, G.W. (1972) \"The Reduced Nearest Neighbor Rule\".  IEEE Transactions\n",
            "     on Information Theory, May 1972, 431-433.\n",
            "   - See also: 1988 MLC Proceedings, 54-64.  Cheeseman et al\"s AUTOCLASS II\n",
            "     conceptual clustering system finds 3 classes in the data.\n",
            "   - Many, many more ...\n"
          ]
        }
      ]
    },
    {
      "cell_type": "code",
      "source": [
        "X_train, X_test, y_train, y_test = train_test_split(iris['data'], iris['target'], test_size=0.2,random_state = 22)\n",
        "#train과 test 데이터가 같으면 모두 맞는 결과를 도출하기 때문에 train 데이터와 test 데이터를 나누어준다\n",
        "#train_test_split 함수는 데이터를 자동으로 랜덤하게 섞어줘서 train과 test 데이터로 분리를 시켜준다\n",
        "#test_size는 전체 데이터중 20퍼센트만 test 데이터의 크기로 지정해주는 코드이다\n",
        "#random_state를 설정해주지 않으면 실행시킬때마다 코드의 결과가 새롭게 달라지기 때문에 22라고 고유의 값을 지정해줘서\n",
        "#22로 실행시킬때마다 똑같은 값을 도출하게 정해준다\n",
        "print(X_train.shape)\n",
        "print(y_train.shape)\n",
        "print(X_test.shape)\n",
        "print(y_test.shape)\n",
        "# 학습시킬 x,y의 크기와 예측하는 x,y의 크기를 출력"
      ],
      "metadata": {
        "colab": {
          "base_uri": "https://localhost:8080/"
        },
        "id": "dgGDz_xQ-93g",
        "outputId": "d6172ba1-165e-4655-cd92-23b15e070166"
      },
      "execution_count": 50,
      "outputs": [
        {
          "output_type": "stream",
          "name": "stdout",
          "text": [
            "(120, 4)\n",
            "(120,)\n",
            "(30, 4)\n",
            "(30,)\n"
          ]
        }
      ]
    },
    {
      "cell_type": "code",
      "source": [
        "knn = KNeighborsClassifier(n_neighbors=3) #n_neighbots는 가까운 data중 몇개를 참고할지 정하는 역할이다\n",
        "knn"
      ],
      "metadata": {
        "colab": {
          "base_uri": "https://localhost:8080/"
        },
        "id": "EMzPlqL2AkyS",
        "outputId": "8355a6ba-e99e-4774-f832-385537540acb"
      },
      "execution_count": 36,
      "outputs": [
        {
          "output_type": "execute_result",
          "data": {
            "text/plain": [
              "KNeighborsClassifier(n_neighbors=3)"
            ]
          },
          "metadata": {},
          "execution_count": 36
        }
      ]
    },
    {
      "cell_type": "code",
      "source": [
        "knn.fit(X_train, y_train) #입력값X_train과 정답y_train을 넣고 학습시키는 과정"
      ],
      "metadata": {
        "colab": {
          "base_uri": "https://localhost:8080/"
        },
        "id": "54KQaik9ApV9",
        "outputId": "22e6dd39-f087-4400-98ce-8e7d3e838c56"
      },
      "execution_count": 94,
      "outputs": [
        {
          "output_type": "execute_result",
          "data": {
            "text/plain": [
              "KNeighborsClassifier(n_neighbors=3)"
            ]
          },
          "metadata": {},
          "execution_count": 94
        }
      ]
    },
    {
      "cell_type": "code",
      "source": [
        "prediction = knn.predict(X_test) #\n",
        "for i in range(0,len(prediction)):\n",
        "  print(\"x_test데이터 {}를 통해 예측한 타깃의 이름 : {}\".format(X_test[i],(iris['target_names'][prediction[i]]))) "
      ],
      "metadata": {
        "colab": {
          "base_uri": "https://localhost:8080/"
        },
        "id": "_0AkFxkuBb4K",
        "outputId": "efddcdd4-5ce9-4c59-be07-a6b1fd735b8e"
      },
      "execution_count": 95,
      "outputs": [
        {
          "output_type": "stream",
          "name": "stdout",
          "text": [
            "x_test데이터 [5.4 3.7 1.5 0.2]를 통해 예측한 타깃의 이름 : setosa\n",
            "x_test데이터 [6.4 3.2 5.3 2.3]를 통해 예측한 타깃의 이름 : virginica\n",
            "x_test데이터 [6.5 2.8 4.6 1.5]를 통해 예측한 타깃의 이름 : versicolor\n",
            "x_test데이터 [6.3 2.5 5.  1.9]를 통해 예측한 타깃의 이름 : virginica\n",
            "x_test데이터 [6.1 2.9 4.7 1.4]를 통해 예측한 타깃의 이름 : versicolor\n",
            "x_test데이터 [6.8 2.8 4.8 1.4]를 통해 예측한 타깃의 이름 : versicolor\n",
            "x_test데이터 [6.7 3.1 4.7 1.5]를 통해 예측한 타깃의 이름 : versicolor\n",
            "x_test데이터 [6.  3.  4.8 1.8]를 통해 예측한 타깃의 이름 : virginica\n",
            "x_test데이터 [5.6 2.9 3.6 1.3]를 통해 예측한 타깃의 이름 : versicolor\n",
            "x_test데이터 [5.  3.2 1.2 0.2]를 통해 예측한 타깃의 이름 : setosa\n",
            "x_test데이터 [6.9 3.2 5.7 2.3]를 통해 예측한 타깃의 이름 : virginica\n",
            "x_test데이터 [5.7 3.  4.2 1.2]를 통해 예측한 타깃의 이름 : versicolor\n",
            "x_test데이터 [7.4 2.8 6.1 1.9]를 통해 예측한 타깃의 이름 : virginica\n",
            "x_test데이터 [7.2 3.6 6.1 2.5]를 통해 예측한 타깃의 이름 : virginica\n",
            "x_test데이터 [5.  3.5 1.6 0.6]를 통해 예측한 타깃의 이름 : setosa\n",
            "x_test데이터 [7.9 3.8 6.4 2. ]를 통해 예측한 타깃의 이름 : virginica\n",
            "x_test데이터 [5.6 2.5 3.9 1.1]를 통해 예측한 타깃의 이름 : versicolor\n",
            "x_test데이터 [5.7 2.8 4.1 1.3]를 통해 예측한 타깃의 이름 : versicolor\n",
            "x_test데이터 [6.  2.2 5.  1.5]를 통해 예측한 타깃의 이름 : versicolor\n",
            "x_test데이터 [5.7 2.9 4.2 1.3]를 통해 예측한 타깃의 이름 : versicolor\n",
            "x_test데이터 [5.1 3.8 1.6 0.2]를 통해 예측한 타깃의 이름 : setosa\n",
            "x_test데이터 [6.9 3.1 5.1 2.3]를 통해 예측한 타깃의 이름 : virginica\n",
            "x_test데이터 [5.5 3.5 1.3 0.2]를 통해 예측한 타깃의 이름 : setosa\n",
            "x_test데이터 [5.8 2.6 4.  1.2]를 통해 예측한 타깃의 이름 : versicolor\n",
            "x_test데이터 [5.8 2.7 5.1 1.9]를 통해 예측한 타깃의 이름 : virginica\n",
            "x_test데이터 [4.7 3.2 1.3 0.2]를 통해 예측한 타깃의 이름 : setosa\n",
            "x_test데이터 [7.2 3.  5.8 1.6]를 통해 예측한 타깃의 이름 : virginica\n",
            "x_test데이터 [6.5 3.  5.2 2. ]를 통해 예측한 타깃의 이름 : virginica\n",
            "x_test데이터 [6.7 3.3 5.7 2.1]를 통해 예측한 타깃의 이름 : virginica\n",
            "x_test데이터 [6.2 2.8 4.8 1.8]를 통해 예측한 타깃의 이름 : virginica\n"
          ]
        }
      ]
    },
    {
      "cell_type": "code",
      "source": [
        "y_prediction = knn.predict(X_test) #"
      ],
      "metadata": {
        "id": "nRhyvW8CBvE1"
      },
      "execution_count": 96,
      "outputs": []
    },
    {
      "cell_type": "code",
      "source": [
        "from sklearn.metrics import accuracy_score\n",
        "#score = knn.score(X_test,y_test)\n",
        "score = accuracy_score(y_test, y_prediction) #이랑 차이점이 뭘까?\n",
        "print(score)"
      ],
      "metadata": {
        "colab": {
          "base_uri": "https://localhost:8080/"
        },
        "id": "Ykf7f5m-B9Ca",
        "outputId": "4a45b3a7-0473-4a89-b83e-8f39432bf38c"
      },
      "execution_count": 97,
      "outputs": [
        {
          "output_type": "stream",
          "name": "stdout",
          "text": [
            "0.9666666666666667\n"
          ]
        }
      ]
    }
  ]
}